{
 "cells": [
  {
   "cell_type": "code",
   "execution_count": 3,
   "metadata": {},
   "outputs": [
    {
     "name": "stdout",
     "output_type": "stream",
     "text": [
      " 리스트 a 의 최댓값 : 100 , 최댓값 인덱스 : 2 \n",
      " 리스트 a 의 최솟값 : -3 , 최솟값 인덱스 : 3 \n"
     ]
    }
   ],
   "source": [
    "# 최대 / 최소 / 인덱스\n",
    "\n",
    "a = [1,4,100 ,-3 ,4 ,10 ,93]\n",
    "\n",
    "print(\" 리스트 a 의 최댓값 : {} , 최댓값 인덱스 : {} \".format(max(a) , a.index(max(a))))\n",
    "print(\" 리스트 a 의 최솟값 : {} , 최솟값 인덱스 : {} \".format(min(a) , a.index(min(a))))\n",
    "\n",
    "# 인덱스의 경우 없는 값을 검색하면 에러가 난다.. 따라서 확실하게 있는 값을 검색할 때문 쓸 것..!"
   ]
  },
  {
   "cell_type": "code",
   "execution_count": 2,
   "metadata": {},
   "outputs": [
    {
     "data": {
      "text/plain": [
       "1"
      ]
     },
     "execution_count": 2,
     "metadata": {},
     "output_type": "execute_result"
    }
   ],
   "source": [
    "a = [1,2,3]\n",
    "a.index(2)\n",
    "#(max(a))"
   ]
  },
  {
   "cell_type": "code",
   "execution_count": 4,
   "metadata": {},
   "outputs": [
    {
     "ename": "SyntaxError",
     "evalue": "invalid syntax (<ipython-input-4-6244c2301f66>, line 1)",
     "output_type": "error",
     "traceback": [
      "\u001b[1;36m  File \u001b[1;32m\"<ipython-input-4-6244c2301f66>\"\u001b[1;36m, line \u001b[1;32m1\u001b[0m\n\u001b[1;33m    a = [1 2  3]\u001b[0m\n\u001b[1;37m           ^\u001b[0m\n\u001b[1;31mSyntaxError\u001b[0m\u001b[1;31m:\u001b[0m invalid syntax\n"
     ]
    }
   ],
   "source": [
    "a = [1 2  3]"
   ]
  },
  {
   "cell_type": "code",
   "execution_count": null,
   "metadata": {},
   "outputs": [],
   "source": []
  }
 ],
 "metadata": {
  "kernelspec": {
   "display_name": "Python 3",
   "language": "python",
   "name": "python3"
  },
  "language_info": {
   "codemirror_mode": {
    "name": "ipython",
    "version": 3
   },
   "file_extension": ".py",
   "mimetype": "text/x-python",
   "name": "python",
   "nbconvert_exporter": "python",
   "pygments_lexer": "ipython3",
   "version": "3.7.3"
  }
 },
 "nbformat": 4,
 "nbformat_minor": 2
}
