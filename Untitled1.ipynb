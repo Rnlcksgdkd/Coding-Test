{
 "cells": [
  {
   "cell_type": "code",
   "execution_count": 10,
   "metadata": {},
   "outputs": [
    {
     "data": {
      "image/png": "[encoded data removed]",
      "text/plain": [
       "<Figure size 432x288 with 1 Axes>"
      ]
     },
     "metadata": {
      "needs_background": "light"
     },
     "output_type": "display_data"
    }
   ],
   "source": [
    "from matplotlib import pyplot as plt\n",
    "\n",
    "t = [1,2,3,4,5,6,7,8,9,10]\n",
    "\n",
    "x = [1,2,3,4,5,6,7,8,9,10]\n",
    "y = [1,2,3,4,5]\n",
    "\n",
    "\n",
    "ans_x = []\n",
    "ans_y = []\n",
    "\n",
    "for i in range(len(x)):\n",
    "    for j in range(len(y)):\n",
    "        \n",
    "        ans_x.append(i)\n",
    "        ans_y.append(j)\n",
    "        plt.scatter(ans_x,ans_y)"
   ]
  },
  {
   "cell_type": "code",
   "execution_count": 17,
   "metadata": {},
   "outputs": [
    {
     "data": {
      "image/png": "[encoded data removed]",
      "text/plain": [
       "<Figure size 432x288 with 1 Axes>"
      ]
     },
     "metadata": {
      "needs_background": "light"
     },
     "output_type": "display_data"
    }
   ],
   "source": [
    "from matplotlib import pyplot as plt\n",
    "\n",
    "\n",
    "for i in range(10):\n",
    "    for j in range(i):\n",
    "        \n",
    "        ans_x.append(i)\n",
    "        ans_x.append(i)\n",
    "        ans_y.append(j)\n",
    "        ans_y.append(-j)\n",
    "        plt.grid(True)\n",
    "        plt.scatter(ans_x,ans_y)"
   ]
  },
  {
   "cell_type": "code",
   "execution_count": 3,
   "metadata": {},
   "outputs": [
    {
     "data": {
      "image/png": "[encoded data removed]",
      "text/plain": [
       "<Figure size 432x288 with 1 Axes>"
      ]
     },
     "metadata": {
      "needs_background": "light"
     },
     "output_type": "display_data"
    }
   ],
   "source": [
    "from matplotlib import pyplot as plt\n",
    "\n",
    "ans_x = []\n",
    "ans_y = []\n",
    "\n",
    "for i in range(5):\n",
    "    for j in range(10):\n",
    "        \n",
    "        ans_x.append(i)\n",
    "       \n",
    "        ans_y.append(i + j)\n",
    "   \n",
    "        plt.grid(True)\n",
    "        plt.scatter(ans_x,ans_y)"
   ]
  },
  {
   "cell_type": "code",
   "execution_count": 52,
   "metadata": {},
   "outputs": [
    {
     "data": {
      "text/plain": [
       "<matplotlib.collections.PathCollection at 0x1be0367f4a8>"
      ]
     },
     "execution_count": 52,
     "metadata": {},
     "output_type": "execute_result"
    },
    {
     "data": {
      "image/png": "[encoded data removed]",
      "text/plain": [
       "<Figure size 432x288 with 1 Axes>"
      ]
     },
     "metadata": {
      "needs_background": "light"
     },
     "output_type": "display_data"
    }
   ],
   "source": [
    " \n",
    "X = 0\n",
    "Y = 4\n",
    "d_1 = 4\n",
    "d_2 = 1\n",
    "    \n",
    "dx = []\n",
    "dy = []\n",
    "    \n",
    "for i in range( 0 , d_2 + 1):\n",
    "        \n",
    "    for j in range( -i , i + 1 ):\n",
    "\n",
    "        dx.append(X + i)\n",
    "        dy.append(Y + j)\n",
    "        \n",
    "\n",
    "for i in range( d_2 + 1 , d_1 + 1 ):\n",
    "    for j in range( -d_2 , d_2 + 1 ):\n",
    "\n",
    "        dx.append(X + i)\n",
    "        dy.append(Y + j + i - d_2  )\n",
    "\n",
    "        \n",
    "i - (d_1 + 1)\n",
    "\n",
    "for i in range( d_1 + 1 , d_1 + d_2 + 1 ):\n",
    "\n",
    "    for j in range( -d_2 + 1 + i - (d_1 + 1) , d_2 - 1 - (i -  (d_1 + 1)) + 1):\n",
    "    \n",
    "        dx.append(X + i)\n",
    "        dy.append(Y + d_1 - d_2 + j)\n",
    "\n",
    "plt.scatter(dx,dy)"
   ]
  },
  {
   "cell_type": "code",
   "execution_count": 15,
   "metadata": {},
   "outputs": [],
   "source": [
    "for i in range(-0,0):\n",
    "    print(i)"
   ]
  },
  {
   "cell_type": "code",
   "execution_count": 32,
   "metadata": {},
   "outputs": [],
   "source": [
    "## for 문을 거꾸로 쓰면 안써진다\n",
    "\n",
    "for i in range(3,-1):\n",
    "    print(i)"
   ]
  },
  {
   "cell_type": "code",
   "execution_count": 33,
   "metadata": {},
   "outputs": [
    {
     "name": "stdout",
     "output_type": "stream",
     "text": [
      "-3\n",
      "-2\n",
      "-1\n",
      "0\n"
     ]
    }
   ],
   "source": [
    "for i in range(-3,1):\n",
    "    print(i)"
   ]
  },
  {
   "cell_type": "code",
   "execution_count": 37,
   "metadata": {},
   "outputs": [
    {
     "name": "stdout",
     "output_type": "stream",
     "text": [
      "1\n",
      "2\n"
     ]
    }
   ],
   "source": [
    "for i in range(1,3):\n",
    "    print(i)"
   ]
  },
  {
   "cell_type": "code",
   "execution_count": null,
   "metadata": {},
   "outputs": [],
   "source": []
  }
 ],
 "metadata": {
  "kernelspec": {
   "display_name": "Python 3",
   "language": "python",
   "name": "python3"
  },
  "language_info": {
   "codemirror_mode": {
    "name": "ipython",
    "version": 3
   },
   "file_extension": ".py",
   "mimetype": "text/x-python",
   "name": "python",
   "nbconvert_exporter": "python",
   "pygments_lexer": "ipython3",
   "version": "3.7.3"
  }
 },
 "nbformat": 4,
 "nbformat_minor": 2
}
