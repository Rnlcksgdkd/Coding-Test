{
 "cells": [
  {
   "cell_type": "code",
   "execution_count": null,
   "metadata": {},
   "outputs": [],
   "source": [
    "\n",
    "# 2020 .09 .11\n",
    "\n"
   ]
  },
  {
   "cell_type": "code",
   "execution_count": null,
   "metadata": {},
   "outputs": [],
   "source": [
    "# 문자열 압축\n",
    "\n",
    "def solution(s):\n",
    "    \n",
    "    N = len(s)\n",
    "    ans = N\n",
    "    \n",
    "    # 자르는 개수에 따라 for문\n",
    "    for r in range(1,N,1):\n",
    "        index = 0\n",
    "        end_flag = 0\n",
    "        new_str = \"\"\n",
    "        \n",
    "        # 한 Str 에 대해서 압축\n",
    "        while(1):\n",
    "            num_comp = 1\n",
    "            if index + r - 1 >= N:\n",
    "                new_str += s[index:]\n",
    "                break\n",
    "            chunk = s[index:index + r]\n",
    "            # 한번 압축에서 몇번 반복되는지 확인\n",
    "            while(1):\n",
    "                if index + (num_comp + 1)*r - 1 >= N:\n",
    "                    end_flag = 1\n",
    "                    index += num_comp*r\n",
    "                    break\n",
    "                if chunk != s[index + num_comp*r : index + (num_comp + 1)*r ]:\n",
    "                    break   \n",
    "                num_comp += 1 \n",
    "            # 압축\n",
    "            if num_comp == 1:\n",
    "                new_str += chunk\n",
    "            else:\n",
    "                new_str += str(num_comp) + chunk\n",
    "            # 압축을 못할 경우\n",
    "            if end_flag:\n",
    "                new_str += s[index:]\n",
    "                break\n",
    "            index += (num_comp)*r\n",
    "        if len(new_str) < ans:\n",
    "            ans = len(new_str)\n",
    "            print(new_str)\n",
    "    return ans\n",
    "\n",
    "solution(\"abcbcdef\")"
   ]
  },
  {
   "cell_type": "code",
   "execution_count": 1,
   "metadata": {},
   "outputs": [
    {
     "name": "stdout",
     "output_type": "stream",
     "text": [
      "0\n"
     ]
    },
    {
     "ename": "KeyboardInterrupt",
     "evalue": "",
     "output_type": "error",
     "traceback": [
      "\u001b[1;31m---------------------------------------------------------------------------\u001b[0m",
      "\u001b[1;31mKeyboardInterrupt\u001b[0m                         Traceback (most recent call last)",
      "\u001b[1;32m<ipython-input-1-80a13c766312>\u001b[0m in \u001b[0;36m<module>\u001b[1;34m\u001b[0m\n\u001b[0;32m     35\u001b[0m     \u001b[1;32mreturn\u001b[0m \u001b[0mans\u001b[0m\u001b[1;33m\u001b[0m\u001b[1;33m\u001b[0m\u001b[0m\n\u001b[0;32m     36\u001b[0m \u001b[1;33m\u001b[0m\u001b[0m\n\u001b[1;32m---> 37\u001b[1;33m \u001b[0msolution\u001b[0m\u001b[1;33m(\u001b[0m\u001b[1;34m\"bcdddefg\"\u001b[0m\u001b[1;33m)\u001b[0m\u001b[1;33m\u001b[0m\u001b[1;33m\u001b[0m\u001b[0m\n\u001b[0m",
      "\u001b[1;32m<ipython-input-1-80a13c766312>\u001b[0m in \u001b[0;36msolution\u001b[1;34m(s)\u001b[0m\n\u001b[0;32m     20\u001b[0m                 \u001b[1;32melif\u001b[0m \u001b[0mchunk\u001b[0m \u001b[1;33m==\u001b[0m \u001b[0ms\u001b[0m\u001b[1;33m[\u001b[0m\u001b[0mindex\u001b[0m \u001b[1;33m+\u001b[0m \u001b[0mr\u001b[0m \u001b[1;33m:\u001b[0m \u001b[0mindex\u001b[0m \u001b[1;33m+\u001b[0m \u001b[1;36m2\u001b[0m\u001b[1;33m*\u001b[0m\u001b[0mr\u001b[0m\u001b[1;33m]\u001b[0m\u001b[1;33m:\u001b[0m\u001b[1;33m\u001b[0m\u001b[1;33m\u001b[0m\u001b[0m\n\u001b[0;32m     21\u001b[0m                     \u001b[0mn_rep\u001b[0m \u001b[1;33m+=\u001b[0m \u001b[1;36m1\u001b[0m\u001b[1;33m\u001b[0m\u001b[1;33m\u001b[0m\u001b[0m\n\u001b[1;32m---> 22\u001b[1;33m                     \u001b[0mindex\u001b[0m \u001b[1;33m+=\u001b[0m \u001b[0mr\u001b[0m\u001b[1;33m\u001b[0m\u001b[1;33m\u001b[0m\u001b[0m\n\u001b[0m\u001b[0;32m     23\u001b[0m                 \u001b[1;32melse\u001b[0m\u001b[1;33m:\u001b[0m\u001b[1;33m\u001b[0m\u001b[1;33m\u001b[0m\u001b[0m\n\u001b[0;32m     24\u001b[0m                     \u001b[0mprint\u001b[0m\u001b[1;33m(\u001b[0m\u001b[0mchunk\u001b[0m \u001b[1;33m,\u001b[0m \u001b[0ms\u001b[0m\u001b[1;33m[\u001b[0m\u001b[0mindex\u001b[0m \u001b[1;33m+\u001b[0m \u001b[0mr\u001b[0m \u001b[1;33m:\u001b[0m \u001b[0mindex\u001b[0m \u001b[1;33m+\u001b[0m \u001b[1;36m2\u001b[0m\u001b[1;33m*\u001b[0m\u001b[0mr\u001b[0m\u001b[1;33m]\u001b[0m\u001b[1;33m)\u001b[0m\u001b[1;33m\u001b[0m\u001b[1;33m\u001b[0m\u001b[0m\n",
      "\u001b[1;31mKeyboardInterrupt\u001b[0m: "
     ]
    }
   ],
   "source": [
    "def solution(s):\n",
    "    \n",
    "    N = len(s)\n",
    "    ans = float(\"inf\")\n",
    "\n",
    "    \n",
    "    for r in range(N):\n",
    "        print(r)\n",
    "        index = 0\n",
    "        new_str = \"\"\n",
    "        while(1):   # 한 문자 압축하기\n",
    "            if index >= N:  break\n",
    "            elif index + 2*r - 1 >= N:\n",
    "                new_str += s[index:]\n",
    "                break\n",
    "            n_rep = 1\n",
    "            chunk = s[index: index + r]\n",
    "            while(1):       # 한 문구 반복\n",
    "                if index + r - 1 >= N: break  \n",
    "                elif chunk == s[index + r : index + 2*r]:\n",
    "                    n_rep += 1\n",
    "                    index += r\n",
    "                else:\n",
    "                    print(chunk , s[index + r : index + 2*r])\n",
    "                    index += r\n",
    "                    break\n",
    "\n",
    "            if n_rep == 1:\n",
    "                new_str += chunk\n",
    "            else: \n",
    "                new_str = new_str + str(n_rep) + chunk\n",
    "        if len(new_str) < ans:\n",
    "            ans = len(new_str)\n",
    "\n",
    "    return ans\n",
    "\n",
    "solution(\"bcdddefg\")"
   ]
  },
  {
   "cell_type": "code",
   "execution_count": 2,
   "metadata": {},
   "outputs": [
    {
     "name": "stdout",
     "output_type": "stream",
     "text": [
      "10000\n",
      "10000\n"
     ]
    }
   ],
   "source": [
    "\n",
    "dict = {}\n",
    "dict['a'] = 10000\n",
    "\n",
    "b = dict['a']\n",
    "print(b)\n",
    "dict['a'] = 100\n",
    "print(b)"
   ]
  },
  {
   "cell_type": "code",
   "execution_count": 15,
   "metadata": {},
   "outputs": [],
   "source": [
    "\n",
    "def solution(record):\n",
    "    answer = []\n",
    "    dic = {}\n",
    "    User = []\n",
    "    DONE = []\n",
    "    for r in record:\n",
    "        print(r)\n",
    "        str = {}\n",
    "        lst = r.split()\n",
    "        print(lst)\n",
    "        done = lst[0];  user = lst[1];  name = lst[2]\n",
    "        dic[user] = name\n",
    "        \n",
    "        User.append(user)\n",
    "        if done == \"Enter\":     DONE.append(\"님이  들어왔습니다\")\n",
    "        elif done == \"Leave\":   DONE.append(\"님이 나갔습니다\")\n",
    "               \n",
    "    for i in range(len(real)):\n",
    "        temp = dic[User[i]] + DONE[i]\n",
    "        answer.append(temp)\n",
    "        \n",
    "    return answer"
   ]
  },
  {
   "cell_type": "code",
   "execution_count": 16,
   "metadata": {},
   "outputs": [
    {
     "name": "stdout",
     "output_type": "stream",
     "text": [
      "Enter asd df\n",
      "['Enter', 'asd', 'df']\n"
     ]
    },
    {
     "ename": "NameError",
     "evalue": "name 'real' is not defined",
     "output_type": "error",
     "traceback": [
      "\u001b[1;31m---------------------------------------------------------------------------\u001b[0m",
      "\u001b[1;31mNameError\u001b[0m                                 Traceback (most recent call last)",
      "\u001b[1;32m<ipython-input-16-4dbb5c33bb3f>\u001b[0m in \u001b[0;36m<module>\u001b[1;34m\u001b[0m\n\u001b[1;32m----> 1\u001b[1;33m \u001b[0msolution\u001b[0m\u001b[1;33m(\u001b[0m\u001b[1;33m[\u001b[0m\u001b[1;34m\"Enter asd df\"\u001b[0m\u001b[1;33m]\u001b[0m\u001b[1;33m)\u001b[0m\u001b[1;33m\u001b[0m\u001b[1;33m\u001b[0m\u001b[0m\n\u001b[0m",
      "\u001b[1;32m<ipython-input-15-6ea013c1b00b>\u001b[0m in \u001b[0;36msolution\u001b[1;34m(record)\u001b[0m\n\u001b[0;32m     17\u001b[0m         \u001b[1;32melif\u001b[0m \u001b[0mdone\u001b[0m \u001b[1;33m==\u001b[0m \u001b[1;34m\"Leave\"\u001b[0m\u001b[1;33m:\u001b[0m   \u001b[0mDONE\u001b[0m\u001b[1;33m.\u001b[0m\u001b[0mappend\u001b[0m\u001b[1;33m(\u001b[0m\u001b[1;34m\"님이 나갔습니다\"\u001b[0m\u001b[1;33m)\u001b[0m\u001b[1;33m\u001b[0m\u001b[1;33m\u001b[0m\u001b[0m\n\u001b[0;32m     18\u001b[0m \u001b[1;33m\u001b[0m\u001b[0m\n\u001b[1;32m---> 19\u001b[1;33m     \u001b[1;32mfor\u001b[0m \u001b[0mi\u001b[0m \u001b[1;32min\u001b[0m \u001b[0mrange\u001b[0m\u001b[1;33m(\u001b[0m\u001b[0mlen\u001b[0m\u001b[1;33m(\u001b[0m\u001b[0mreal\u001b[0m\u001b[1;33m)\u001b[0m\u001b[1;33m)\u001b[0m\u001b[1;33m:\u001b[0m\u001b[1;33m\u001b[0m\u001b[1;33m\u001b[0m\u001b[0m\n\u001b[0m\u001b[0;32m     20\u001b[0m         \u001b[0mtemp\u001b[0m \u001b[1;33m=\u001b[0m \u001b[0mdic\u001b[0m\u001b[1;33m[\u001b[0m\u001b[0mUser\u001b[0m\u001b[1;33m[\u001b[0m\u001b[0mi\u001b[0m\u001b[1;33m]\u001b[0m\u001b[1;33m]\u001b[0m \u001b[1;33m+\u001b[0m \u001b[0mDONE\u001b[0m\u001b[1;33m[\u001b[0m\u001b[0mi\u001b[0m\u001b[1;33m]\u001b[0m\u001b[1;33m\u001b[0m\u001b[1;33m\u001b[0m\u001b[0m\n\u001b[0;32m     21\u001b[0m         \u001b[0manswer\u001b[0m\u001b[1;33m.\u001b[0m\u001b[0mappend\u001b[0m\u001b[1;33m(\u001b[0m\u001b[0mtemp\u001b[0m\u001b[1;33m)\u001b[0m\u001b[1;33m\u001b[0m\u001b[1;33m\u001b[0m\u001b[0m\n",
      "\u001b[1;31mNameError\u001b[0m: name 'real' is not defined"
     ]
    }
   ],
   "source": [
    "solution([\"Enter asd df\"])"
   ]
  },
  {
   "cell_type": "code",
   "execution_count": 19,
   "metadata": {},
   "outputs": [],
   "source": [
    "\n",
    "def solution(record):\n",
    "    answer = []\n",
    "    dic = {}\n",
    "    User = []\n",
    "    DONE = []\n",
    "    for r in record:\n",
    "        str = {}\n",
    "        lst = r.split()\n",
    "        done = lst[0];  user = lst[1]; \n",
    "        \n",
    "        if done == \"Leave\":\n",
    "            User.append(user)\n",
    "            DONE.append(\"님이 나갔습니다.\")\n",
    "        elif done == \"Enter\":\n",
    "            name = lst[2]\n",
    "            User.append(user)\n",
    "            DONE.append(\"님이  들어왔습니다.\")\n",
    "            dic[user] = name\n",
    "        else:\n",
    "            name = lst[2]\n",
    "            dic[user] = name\n",
    "               \n",
    "    for i in range(len(User)):\n",
    "        temp = dic[User[i]] + DONE[i]\n",
    "        answer.append(temp)\n",
    "    return answer"
   ]
  },
  {
   "cell_type": "code",
   "execution_count": 24,
   "metadata": {},
   "outputs": [
    {
     "name": "stdout",
     "output_type": "stream",
     "text": [
      "Prodo님이 들어왔습니다. Prodo님이  들어왔습니다.\n",
      "Ryan님이 들어왔습니다. Ryan님이  들어왔습니다.\n",
      "Prodo님이 들어왔습니다. Prodo님이  들어왔습니다.\n"
     ]
    }
   ],
   "source": [
    "record = [\"Enter uid1234 Muzi\", \"Enter uid4567 Prodo\",\"Leave uid1234\",\"Enter uid1234 Prodo\",\"Change uid4567 Ryan\"]\n",
    "\n",
    "b = solution(record)\n",
    "\n",
    "for i in range(len(b)):\n",
    "    if a[i] != b[i]:\n",
    "        print(a[i] , b[i])\n",
    "    "
   ]
  },
  {
   "cell_type": "code",
   "execution_count": 22,
   "metadata": {},
   "outputs": [],
   "source": [
    "a = [\"Prodo님이 들어왔습니다.\", \"Ryan님이 들어왔습니다.\", \"Prodo님이 나갔습니다.\", \"Prodo님이 들어왔습니다.\"]"
   ]
  },
  {
   "cell_type": "code",
   "execution_count": 48,
   "metadata": {},
   "outputs": [],
   "source": [
    "def solution(N, stages):\n",
    "    answer = []\n",
    "    \n",
    "    p_fail = [0 for _ in range(N)]\n",
    "    n_clear = [0 for _ in range(N)]\n",
    "    n_challenge = [0 for _ in range(N)]\n",
    "    ref = []\n",
    "    \n",
    "    for stage in stages:\n",
    "        if stage == N + 1:\n",
    "            for i in range(N):\n",
    "                n_clear[i] += 1;    n_challenge[i] += 1\n",
    "            continue\n",
    "        n_challenge[stage - 1] += 1\n",
    "        for i in range(stage - 1):\n",
    "            n_clear[i] += 1\n",
    "            n_challenge[i] += 1\n",
    "\n",
    "    for stage in range(N):\n",
    "        if n_challenge[stage] == 0: \n",
    "            p_fail[stage] = 0\n",
    "        else:   p_fail[stage] = ( n_challenge[stage] - n_clear[stage]) /n_challenge[stage]\n",
    "    for i in range(N):\n",
    "        ref.append([i , p_fail[i]])\n",
    "    print(ref)\n",
    "    ref = sorted(ref , key = lambda x : (-x[1], +x[0]))\n",
    "    for i in range(N):\n",
    "        answer.append(ref[i][0] + 1)\n",
    "    print(ref)\n",
    "        \n",
    "    return answer"
   ]
  },
  {
   "cell_type": "code",
   "execution_count": 49,
   "metadata": {},
   "outputs": [
    {
     "name": "stdout",
     "output_type": "stream",
     "text": [
      "[[0, 0.125], [1, 0.42857142857142855], [2, 0.5], [3, 0.5], [4, 0.0]]\n",
      "[[2, 0.5], [3, 0.5], [1, 0.42857142857142855], [0, 0.125], [4, 0.0]]\n"
     ]
    },
    {
     "data": {
      "text/plain": [
       "[3, 4, 2, 1, 5]"
      ]
     },
     "execution_count": 49,
     "metadata": {},
     "output_type": "execute_result"
    }
   ],
   "source": [
    "solution(5, [2, 1, 2, 6, 2, 4, 3, 3])"
   ]
  },
  {
   "cell_type": "code",
   "execution_count": 50,
   "metadata": {},
   "outputs": [
    {
     "data": {
      "text/plain": [
       "[[1]]"
      ]
     },
     "execution_count": 50,
     "metadata": {},
     "output_type": "execute_result"
    }
   ],
   "source": [
    "a = [[1,2]]\n",
    "\n",
    "del(a[0][1])\n",
    "a"
   ]
  },
  {
   "cell_type": "code",
   "execution_count": 51,
   "metadata": {},
   "outputs": [
    {
     "ename": "TypeError",
     "evalue": "int() argument must be a string, a bytes-like object or a number, not 'list'",
     "output_type": "error",
     "traceback": [
      "\u001b[1;31m---------------------------------------------------------------------------\u001b[0m",
      "\u001b[1;31mTypeError\u001b[0m                                 Traceback (most recent call last)",
      "\u001b[1;32m<ipython-input-51-431e330cd094>\u001b[0m in \u001b[0;36m<module>\u001b[1;34m\u001b[0m\n\u001b[1;32m----> 1\u001b[1;33m \u001b[0mint\u001b[0m\u001b[1;33m(\u001b[0m\u001b[1;33m[\u001b[0m\u001b[1;36m2\u001b[0m\u001b[1;33m]\u001b[0m\u001b[1;33m)\u001b[0m\u001b[1;33m\u001b[0m\u001b[1;33m\u001b[0m\u001b[0m\n\u001b[0m",
      "\u001b[1;31mTypeError\u001b[0m: int() argument must be a string, a bytes-like object or a number, not 'list'"
     ]
    }
   ],
   "source": [
    "int([2])"
   ]
  },
  {
   "cell_type": "code",
   "execution_count": 102,
   "metadata": {},
   "outputs": [],
   "source": [
    "from itertools import combinations\n",
    "from collections import defaultdict\n",
    "\n",
    "def solution(relation):\n",
    "    answer = 0\n",
    "    candi_keys = []\n",
    "    num_attr = len(relation[0])\n",
    "    lst = [0 for _ in range(num_attr)]\n",
    "    for i in range(num_attr):   lst[i] = i\n",
    "    \n",
    "    for r in range(num_attr):\n",
    "        lst_combi = list(combinations(lst , r))\n",
    "\n",
    "        for combi in lst_combi:\n",
    "            mini_flag = 1\n",
    "            for candi_key in candi_keys:\n",
    "                if len(list(set(candi_key) - set(combi))) == 0: \n",
    "                    mini_flag = 0\n",
    "                    break;  \n",
    "            if mini_flag == 0:  continue\n",
    "                    \n",
    "            dic = defaultdict(list)\n",
    "            flag = 1\n",
    "            for tup in relation:\n",
    "                key = []\n",
    "                for attr in combi:\n",
    "                    key.append(tup[attr])\n",
    "                str_key = str(key)\n",
    "                if not dic.get(str_key):\n",
    "                    dic[str_key] = 1\n",
    "                else:\n",
    "                    flag = 0;   break\n",
    "            if flag == 1:   \n",
    "                answer += 1\n",
    "                candi_keys.append(combi)\n",
    "        \n",
    "\n",
    "    return answer"
   ]
  },
  {
   "cell_type": "code",
   "execution_count": 103,
   "metadata": {},
   "outputs": [
    {
     "data": {
      "text/plain": [
       "['[', '1', ',', ' ', '2', ',', ' ', '3', ']']"
      ]
     },
     "execution_count": 103,
     "metadata": {},
     "output_type": "execute_result"
    }
   ],
   "source": [
    "list(str([1,2,3]))"
   ]
  },
  {
   "cell_type": "code",
   "execution_count": 104,
   "metadata": {},
   "outputs": [
    {
     "data": {
      "text/plain": [
       "2"
      ]
     },
     "execution_count": 104,
     "metadata": {},
     "output_type": "execute_result"
    }
   ],
   "source": [
    "solution([[\"100\",\"ryan\",\"music\",\"2\"],[\"200\",\"apeach\",\"math\",\"2\"],[\"300\",\"tube\",\"computer\",\"3\"],[\"400\",\"con\",\"computer\",\"4\"],[\"500\",\"muzi\",\"music\",\"3\"],[\"600\",\"apeach\",\"music\",\"2\"]])"
   ]
  },
  {
   "cell_type": "code",
   "execution_count": 78,
   "metadata": {},
   "outputs": [],
   "source": [
    "if list(set([1,2,3]) - set([1,2,3,4])) == None:\n",
    "    print(\"sd\")"
   ]
  },
  {
   "cell_type": "code",
   "execution_count": 82,
   "metadata": {},
   "outputs": [
    {
     "data": {
      "text/plain": [
       "1"
      ]
     },
     "execution_count": 82,
     "metadata": {},
     "output_type": "execute_result"
    }
   ],
   "source": [
    "len(list(set([1,2,3,5]) - set([1,2,3,4])))"
   ]
  },
  {
   "cell_type": "code",
   "execution_count": 91,
   "metadata": {},
   "outputs": [
    {
     "data": {
      "text/plain": [
       "[1, 2, 3]"
      ]
     },
     "execution_count": 91,
     "metadata": {},
     "output_type": "execute_result"
    }
   ],
   "source": [
    "def solution(food_times, k):\n",
    "    n_lst = []\n",
    "    for i in range(len(food_times)):    n_lst.append(i + 1)\n",
    "    index = 0\n",
    "    for _ in range(k):\n",
    "        food_times[index] -= 1\n",
    "        if food_times[index] == 0:\n",
    "            n_lst.pop(index)\n",
    "            food_times.pop(index)\n",
    "        else:   index += 1\n",
    "        if index >= len(food_times):\n",
    "            index = 0 \n",
    "    if len(n_lst) == 0:\n",
    "        return -1\n",
    "    return n_lst[index]"
   ]
  },
  {
   "cell_type": "code",
   "execution_count": 109,
   "metadata": {},
   "outputs": [
    {
     "name": "stdout",
     "output_type": "stream",
     "text": [
      "[[3, 1], [1, 2], [2, 3]]\n",
      "[[2, 1], [1, 3]]\n",
      "[[1, 1]]\n",
      "[]\n"
     ]
    },
    {
     "ename": "ValueError",
     "evalue": "min() arg is an empty sequence",
     "output_type": "error",
     "traceback": [
      "\u001b[1;31m---------------------------------------------------------------------------\u001b[0m",
      "\u001b[1;31mValueError\u001b[0m                                Traceback (most recent call last)",
      "\u001b[1;32m<ipython-input-109-23686064551c>\u001b[0m in \u001b[0;36m<module>\u001b[1;34m\u001b[0m\n\u001b[0;32m     28\u001b[0m \u001b[1;33m\u001b[0m\u001b[0m\n\u001b[0;32m     29\u001b[0m \u001b[1;33m\u001b[0m\u001b[0m\n\u001b[1;32m---> 30\u001b[1;33m \u001b[0msolution\u001b[0m\u001b[1;33m(\u001b[0m\u001b[1;33m[\u001b[0m\u001b[1;36m3\u001b[0m\u001b[1;33m,\u001b[0m\u001b[1;36m1\u001b[0m\u001b[1;33m,\u001b[0m\u001b[1;36m2\u001b[0m\u001b[1;33m]\u001b[0m\u001b[1;33m,\u001b[0m \u001b[1;36m7\u001b[0m\u001b[1;33m)\u001b[0m\u001b[1;33m\u001b[0m\u001b[1;33m\u001b[0m\u001b[0m\n\u001b[0m\u001b[0;32m     31\u001b[0m \u001b[1;33m\u001b[0m\u001b[0m\n\u001b[0;32m     32\u001b[0m \u001b[1;33m\u001b[0m\u001b[0m\n",
      "\u001b[1;32m<ipython-input-109-23686064551c>\u001b[0m in \u001b[0;36msolution\u001b[1;34m(food_times, k)\u001b[0m\n\u001b[0;32m      7\u001b[0m     \u001b[1;32mwhile\u001b[0m\u001b[1;33m(\u001b[0m\u001b[1;36m1\u001b[0m\u001b[1;33m)\u001b[0m\u001b[1;33m:\u001b[0m\u001b[1;33m\u001b[0m\u001b[1;33m\u001b[0m\u001b[0m\n\u001b[0;32m      8\u001b[0m         \u001b[0mprint\u001b[0m\u001b[1;33m(\u001b[0m\u001b[0mlst\u001b[0m\u001b[1;33m)\u001b[0m\u001b[1;33m\u001b[0m\u001b[1;33m\u001b[0m\u001b[0m\n\u001b[1;32m----> 9\u001b[1;33m         \u001b[0mmin_food\u001b[0m \u001b[1;33m=\u001b[0m \u001b[1;33m(\u001b[0m\u001b[0mmin\u001b[0m\u001b[1;33m(\u001b[0m\u001b[0mlst\u001b[0m\u001b[1;33m)\u001b[0m\u001b[1;33m)\u001b[0m\u001b[1;33m[\u001b[0m\u001b[1;36m0\u001b[0m\u001b[1;33m]\u001b[0m\u001b[1;33m\u001b[0m\u001b[1;33m\u001b[0m\u001b[0m\n\u001b[0m\u001b[0;32m     10\u001b[0m \u001b[1;33m\u001b[0m\u001b[0m\n\u001b[0;32m     11\u001b[0m         \u001b[0mtarget\u001b[0m \u001b[1;33m=\u001b[0m \u001b[0mlst\u001b[0m\u001b[1;33m.\u001b[0m\u001b[0mindex\u001b[0m\u001b[1;33m(\u001b[0m\u001b[0mmin\u001b[0m\u001b[1;33m(\u001b[0m\u001b[0mlst\u001b[0m\u001b[1;33m)\u001b[0m\u001b[1;33m)\u001b[0m\u001b[1;33m\u001b[0m\u001b[1;33m\u001b[0m\u001b[0m\n",
      "\u001b[1;31mValueError\u001b[0m: min() arg is an empty sequence"
     ]
    }
   ],
   "source": [
    "def solution(food_times, k):\n",
    "    \n",
    "    time = 0\n",
    "    lst = []\n",
    "    for i in range(len(food_times)):    lst.append([food_times[i] , i + 1])\n",
    "    index = 0\n",
    "    while(1):\n",
    "        print(lst)\n",
    "        min_food = (min(lst))[0]\n",
    "        \n",
    "        target = lst.index(min(lst))\n",
    "        if (min_food*len(lst)) > k :\n",
    "            break\n",
    "        else:\n",
    "            for i in range(len(lst)):\n",
    "                lst[i][0] -= min_food\n",
    "            time += min_food*len(lst)\n",
    "            lst.pop(target)\n",
    "    print(lst)\n",
    "            \n",
    "\n",
    "                                                \n",
    "                                            \n",
    "                                            \n",
    "    \n",
    "    \n",
    "\n",
    "\n",
    "                                                \n",
    "solution([3,1,2], 7)                              \n",
    "    \n",
    "    \n"
   ]
  },
  {
   "cell_type": "code",
   "execution_count": 123,
   "metadata": {},
   "outputs": [],
   "source": [
    "from collections import defaultdict\n",
    "dic = defaultdict(list)\n",
    "\n",
    "def check_rect(board , i):\n",
    "    min_x = float('inf');   min_y = float('inf')\n",
    "    max_x = float('-inf');  max_y = float('-inf')\n",
    "    \n",
    "    for pos in dic[i]:\n",
    "        if pos[0] < min_x:    min_x = pos[0]\n",
    "        if pos[0] > max_x:    max_x = pos[0]\n",
    "        if pos[1] < min_y:    min_y = pos[1]\n",
    "        if pos[1] > max_y:    max_y = pos[1]\n",
    "    \n",
    "    for x in range(min_x , max_x + 1):\n",
    "        for y in range(min_y , max_y + 1):\n",
    "            if board[x][y] == i or board[x][y] == -1:   pass\n",
    "            else:   return False\n",
    "    return True\n",
    "\n",
    "def solution(board):\n",
    "    answer = 0\n",
    "    \n",
    "    N = len(board[0])\n",
    "    for x in range(N):\n",
    "        for y in range(N):\n",
    "            if board[x][y] > 0:\n",
    "                dic[board[x][y]].append([x,y])\n",
    "    \n",
    "    for block in dic.keys():\n",
    "        if check_rect(board , block) == True:\n",
    "            print(block)\n",
    "            print(\"사각형입니당\")\n",
    "                \n",
    "                \n",
    "    return answer"
   ]
  },
  {
   "cell_type": "code",
   "execution_count": 125,
   "metadata": {},
   "outputs": [
    {
     "name": "stdout",
     "output_type": "stream",
     "text": [
      "4\n",
      "사각형입니당\n",
      "5\n",
      "사각형입니당\n"
     ]
    },
    {
     "data": {
      "text/plain": [
       "0"
      ]
     },
     "execution_count": 125,
     "metadata": {},
     "output_type": "execute_result"
    }
   ],
   "source": [
    "board = [[0,0,0,0,0,0,0,0,0,0],[0,0,0,0,0,0,0,0,0,0],[0,0,0,0,0,0,0,0,0,0],[0,0,0,0,0,0,0,0,0,0],[0,0,0,0,0,4,4,0,0,0],[0,0,0,0,0,4,4,0,0,0],[0,0,0,0,3,4,4,0,0,0],[0,0,0,2,3,0,0,0,5,5],[1,2,2,2,3,3,0,0,5,5],[1,1,1,0,0,0,0,0,5,5]]\n",
    "\n",
    "solution(board)"
   ]
  },
  {
   "cell_type": "code",
   "execution_count": null,
   "metadata": {},
   "outputs": [],
   "source": [
    "\n",
    "## 히히히히히히히히히히히히히히힣 개뿌듯해!!!!!!!!!!!!!!!!\n",
    "\n",
    "from collections import defaultdict\n",
    "dic = defaultdict(list)\n",
    "\n",
    "def drop_block(board):\n",
    "    N = len(board[0])\n",
    "    for y in range(N):\n",
    "        for x in range(0,N,1):\n",
    "            if board[x][y] > 0: break\n",
    "            else:   board[x][y] = -1\n",
    "    \n",
    "def check_rect(board , i):\n",
    "    min_x = float('inf');   min_y = float('inf')\n",
    "    max_x = float('-inf');  max_y = float('-inf')\n",
    "    for pos in dic[i]:\n",
    "        if pos[0] < min_x:    min_x = pos[0]\n",
    "        if pos[0] > max_x:    max_x = pos[0]\n",
    "        if pos[1] < min_y:    min_y = pos[1]\n",
    "        if pos[1] > max_y:    max_y = pos[1]\n",
    "    for x in range(min_x , max_x + 1):\n",
    "        for y in range(min_y , max_y + 1):\n",
    "            if board[x][y] == i or board[x][y] == -1:   pass\n",
    "            else:   return False\n",
    "    return True\n",
    "\n",
    "def solution(board):\n",
    "    answer = 0  \n",
    "    N = len(board[0])\n",
    "    for x in range(N):\n",
    "        for y in range(N):\n",
    "            if board[x][y] > 0: dic[board[x][y]].append([x,y])\n",
    "    while(1):\n",
    "        drop_block(board)\n",
    "        del_lst = []\n",
    "        for block in dic.keys():\n",
    "            if check_rect(board , block) == True:\n",
    "                for b in dic[block]:\n",
    "                    board[b[0]][b[1]] = 0\n",
    "                del_lst.append(block)\n",
    "                answer += 1\n",
    "        for i in range(len(del_lst)):  dic.pop(del_lst[i])\n",
    "        if len(del_lst) == 0:   break\n",
    "    return answer\n",
    "\n"
   ]
  },
  {
   "cell_type": "code",
   "execution_count": null,
   "metadata": {},
   "outputs": [],
   "source": [
    "# "
   ]
  },
  {
   "cell_type": "code",
   "execution_count": 127,
   "metadata": {},
   "outputs": [
    {
     "data": {
      "text/plain": [
       "'1'"
      ]
     },
     "execution_count": 127,
     "metadata": {},
     "output_type": "execute_result"
    }
   ],
   "source": [
    "s = \"sdsdfsdff123dfe\"\n",
    "s.find(\"123\")\n",
    "s[9]"
   ]
  },
  {
   "cell_type": "code",
   "execution_count": 128,
   "metadata": {},
   "outputs": [
    {
     "name": "stdout",
     "output_type": "stream",
     "text": [
      "dwqdasdsd\n"
     ]
    },
    {
     "data": {
      "text/plain": [
       "'dWQDAsdsd'"
      ]
     },
     "execution_count": 128,
     "metadata": {},
     "output_type": "execute_result"
    }
   ],
   "source": [
    "a = \"dWQDAsdsd\"\n",
    "\n",
    "print(a.lower())\n",
    "a"
   ]
  },
  {
   "cell_type": "code",
   "execution_count": 132,
   "metadata": {},
   "outputs": [
    {
     "name": "stdout",
     "output_type": "stream",
     "text": [
      "4\n",
      "8\n",
      "-1\n"
     ]
    }
   ],
   "source": [
    "a = \"sda_sda_sda_fgrgfg\"\n",
    "index = 0\n",
    "for _ in range(3):\n",
    "    index = a.find(\"sda\", index + 1 , len(a))\n",
    "    print(index)\n",
    "    "
   ]
  },
  {
   "cell_type": "code",
   "execution_count": null,
   "metadata": {},
   "outputs": [],
   "source": [
    "def solution(word, pages):\n",
    "    answer = 0\n",
    "    \n",
    "    for i in range(len(pages)):\n",
    "        start = pages[i].find(\"content=\")\n",
    "        end = pages[i].find(\".com\" , start)\n",
    "        address = pages[i][start + 1:end+4]\n",
    "        #print(address)\n",
    "        \n",
    "        num_search = 0; index = 0\n",
    "        start = pages[i].find(\"<body>\")\n",
    "        end = pages[i].find(\"</body>\" , start)\n",
    "        body = pages[i][start:end]\n",
    "        temp = body.lower();    low_word = word.lower()\n",
    "        while(1):\n",
    "            index = temp.find(low_word , index + 1)\n",
    "            if  index == -1:   break\n",
    "            else:\n",
    "                num_search += 1\n",
    "        print(\"num_search : \", num_search)\n",
    "                \n",
    "        #print(body)\n",
    "                        \n",
    "                        \n",
    "    return answer"
   ]
  }
 ],
 "metadata": {
  "kernelspec": {
   "display_name": "Python 3",
   "language": "python",
   "name": "python3"
  },
  "language_info": {
   "codemirror_mode": {
    "name": "ipython",
    "version": 3
   },
   "file_extension": ".py",
   "mimetype": "text/x-python",
   "name": "python",
   "nbconvert_exporter": "python",
   "pygments_lexer": "ipython3",
   "version": "3.7.3"
  }
 },
 "nbformat": 4,
 "nbformat_minor": 2
}
