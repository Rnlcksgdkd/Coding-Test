{
 "cells": [
  {
   "cell_type": "code",
   "execution_count": null,
   "metadata": {},
   "outputs": [],
   "source": [
    "import copy\n",
    "\n",
    "def rotate(key):\n",
    "    N = len(key[0])\n",
    "    r_key = [[-1 for _ in range(N)] for _ in range(N) ]\n",
    "    key_pos = []\n",
    "    r_y = []\n",
    "    for x in range(N):\n",
    "        r_y.append(key[x])\n",
    "    for i in range(N):\n",
    "        for j in range(N):\n",
    "            r_key[j][N - 1 - i] = r_y[i][j]\n",
    "            if r_key[j][N - 1 - i] == 1:\n",
    "                key_pos.append([j , N - 1 - i])\n",
    "    return r_key , key_pos\n",
    "\n",
    "def solution(key, lock): \n",
    "    N = len(key[0])\n",
    "    M = len(lock[0])\n",
    "    answer = False\n",
    "    cur_key = copy.deepcopy(key)\n",
    "\n",
    "    for x in range(-N , M):\n",
    "        for y in range(-N , M):\n",
    "            ref = [x,y]\n",
    "            \n",
    "\n",
    "    return answer"
   ]
  },
  {
   "cell_type": "code",
   "execution_count": 1,
   "metadata": {},
   "outputs": [
    {
     "data": {
      "text/plain": [
       "[1, 2, 2, 3]"
      ]
     },
     "execution_count": 1,
     "metadata": {},
     "output_type": "execute_result"
    }
   ],
   "source": [
    "[1,2] + [2,3]"
   ]
  },
  {
   "cell_type": "code",
   "execution_count": 23,
   "metadata": {},
   "outputs": [],
   "source": [
    "import copy\n",
    "\n",
    "def check_right(key , lock , pos_key , pos_lock , ref):\n",
    "    for pos in pos_key:\n",
    "        n_x = pos[0] - ref[0];  n_y = pos[1] - ref[1]\n",
    "        try:\n",
    "            if lock[n_x][n_y] == 1: return False\n",
    "        except: pass\n",
    "    for pos in pos_lock:\n",
    "        n_x =  pos[0] + ref[0];  n_y = pos[1] + ref[1]\n",
    "        try:\n",
    "            if key[n_x][n_y] == 0:  return False\n",
    "        except:pass\n",
    "    print(ref)\n",
    "    return True\n",
    "\n",
    "def solution(key, lock): \n",
    "    N = len(key[0]);    M = len(lock[0])\n",
    "    pos_key = [];   pos_lock = []\n",
    "    \n",
    "    for x in range(N):\n",
    "        for y in range(N):\n",
    "            if key[x][y] == 1:  pos_key.append([x,y])\n",
    "            try:    \n",
    "                if lock[x][y] == 0: pos_lock.append([x,y])\n",
    "            except: pass\n",
    "            \n",
    "    ref = [0,2]\n",
    "    print(check_right(key,lock,pos_key,pos_lock,ref))\n",
    "    \n",
    "#     for r in range(4):              # 회전 \n",
    "#         for x in range(-N + 1,M,1):     # 좌표 이동\n",
    "#             for y in range(-N + 1,M,1):\n",
    "#                 ref = [x,y]\n",
    "#             if check_right(key,lock,pos_key,pos_lock,ref) == True:\n",
    "#                 return True\n",
    "#     return False\n",
    "\n",
    "    \n",
    "\n",
    " \n",
    "  \n",
    "\n",
    "\n",
    "    \n",
    "\n",
    " "
   ]
  },
  {
   "cell_type": "code",
   "execution_count": 24,
   "metadata": {},
   "outputs": [
    {
     "name": "stdout",
     "output_type": "stream",
     "text": [
      "[0, 2]\n",
      "True\n"
     ]
    }
   ],
   "source": [
    "\n",
    "\n",
    "solution([[1, 1, 1], [0, 0, 0], [0, 0, 0]], [[0, 0, 0], [1, 1, 1], [1, 1, 1]])"
   ]
  },
  {
   "cell_type": "code",
   "execution_count": 20,
   "metadata": {},
   "outputs": [
    {
     "ename": "TypeError",
     "evalue": "'type' object is not subscriptable",
     "output_type": "error",
     "traceback": [
      "\u001b[1;31m---------------------------------------------------------------------------\u001b[0m",
      "\u001b[1;31mTypeError\u001b[0m                                 Traceback (most recent call last)",
      "\u001b[1;32m<ipython-input-20-c7e95a85a220>\u001b[0m in \u001b[0;36m<module>\u001b[1;34m\u001b[0m\n\u001b[1;32m----> 1\u001b[1;33m \u001b[0ma\u001b[0m \u001b[1;33m=\u001b[0m \u001b[0mset\u001b[0m\u001b[1;33m[\u001b[0m\u001b[1;36m1\u001b[0m\u001b[1;33m,\u001b[0m\u001b[1;36m4\u001b[0m\u001b[1;33m,\u001b[0m\u001b[1;36m5\u001b[0m\u001b[1;33m]\u001b[0m\u001b[1;33m\u001b[0m\u001b[1;33m\u001b[0m\u001b[0m\n\u001b[0m\u001b[0;32m      2\u001b[0m \u001b[0mb\u001b[0m \u001b[1;33m=\u001b[0m \u001b[0mset\u001b[0m\u001b[1;33m[\u001b[0m\u001b[1;36m1\u001b[0m\u001b[1;33m,\u001b[0m\u001b[1;36m4\u001b[0m\u001b[1;33m,\u001b[0m\u001b[1;36m5\u001b[0m\u001b[1;33m]\u001b[0m\u001b[1;33m\u001b[0m\u001b[1;33m\u001b[0m\u001b[0m\n\u001b[0;32m      3\u001b[0m \u001b[1;33m\u001b[0m\u001b[0m\n\u001b[0;32m      4\u001b[0m \u001b[1;32mif\u001b[0m \u001b[0ma\u001b[0m\u001b[1;33m==\u001b[0m\u001b[0mb\u001b[0m\u001b[1;33m:\u001b[0m\u001b[1;33m\u001b[0m\u001b[1;33m\u001b[0m\u001b[0m\n\u001b[0;32m      5\u001b[0m     \u001b[0mprint\u001b[0m\u001b[1;33m(\u001b[0m\u001b[1;34m\"Dsd\"\u001b[0m\u001b[1;33m)\u001b[0m\u001b[1;33m\u001b[0m\u001b[1;33m\u001b[0m\u001b[0m\n",
      "\u001b[1;31mTypeError\u001b[0m: 'type' object is not subscriptable"
     ]
    }
   ],
   "source": [
    "a = set[1,4,5]\n",
    "b = set[1,4,5]\n",
    "\n",
    "if a==b:\n",
    "    print(\"Dsd\")"
   ]
  },
  {
   "cell_type": "code",
   "execution_count": 25,
   "metadata": {},
   "outputs": [
    {
     "ename": "TypeError",
     "evalue": "unhashable type: 'list'",
     "output_type": "error",
     "traceback": [
      "\u001b[1;31m---------------------------------------------------------------------------\u001b[0m",
      "\u001b[1;31mTypeError\u001b[0m                                 Traceback (most recent call last)",
      "\u001b[1;32m<ipython-input-25-e70b1e6a42dc>\u001b[0m in \u001b[0;36m<module>\u001b[1;34m\u001b[0m\n\u001b[0;32m      1\u001b[0m \u001b[0ma\u001b[0m \u001b[1;33m=\u001b[0m \u001b[1;33m[\u001b[0m\u001b[1;33m[\u001b[0m\u001b[1;36m1\u001b[0m\u001b[1;33m,\u001b[0m\u001b[1;36m2\u001b[0m\u001b[1;33m]\u001b[0m\u001b[1;33m,\u001b[0m \u001b[1;33m[\u001b[0m\u001b[1;36m2\u001b[0m\u001b[1;33m,\u001b[0m\u001b[1;36m3\u001b[0m\u001b[1;33m]\u001b[0m\u001b[1;33m]\u001b[0m\u001b[1;33m\u001b[0m\u001b[1;33m\u001b[0m\u001b[0m\n\u001b[0;32m      2\u001b[0m \u001b[1;33m\u001b[0m\u001b[0m\n\u001b[1;32m----> 3\u001b[1;33m \u001b[0mset\u001b[0m\u001b[1;33m(\u001b[0m\u001b[0ma\u001b[0m\u001b[1;33m)\u001b[0m\u001b[1;33m\u001b[0m\u001b[1;33m\u001b[0m\u001b[0m\n\u001b[0m",
      "\u001b[1;31mTypeError\u001b[0m: unhashable type: 'list'"
     ]
    }
   ],
   "source": [
    "a = [[1,2], [2,3]]\n",
    "\n",
    "set(a)"
   ]
  },
  {
   "cell_type": "code",
   "execution_count": null,
   "metadata": {},
   "outputs": [],
   "source": []
  }
 ],
 "metadata": {
  "kernelspec": {
   "display_name": "Python 3",
   "language": "python",
   "name": "python3"
  },
  "language_info": {
   "codemirror_mode": {
    "name": "ipython",
    "version": 3
   },
   "file_extension": ".py",
   "mimetype": "text/x-python",
   "name": "python",
   "nbconvert_exporter": "python",
   "pygments_lexer": "ipython3",
   "version": "3.7.3"
  }
 },
 "nbformat": 4,
 "nbformat_minor": 2
}
