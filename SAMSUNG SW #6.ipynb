{
 "cells": [
  {
   "cell_type": "code",
   "execution_count": 7,
   "metadata": {},
   "outputs": [],
   "source": [
    "\n",
    "# SAMSUNG SW 6\n",
    "\n",
    "# 2020.06.11\n",
    "\n",
    "# 14500 . 테트로미노\n",
    "\n",
    "# 14888 . 연산자 끼워넣기"
   ]
  },
  {
   "cell_type": "code",
   "execution_count": 6,
   "metadata": {},
   "outputs": [
    {
     "name": "stdout",
     "output_type": "stream",
     "text": [
      "4 10\n",
      "1 2 1 2 1 2 1 2 1 2\n",
      "2 1 2 1 2 1 2 1 2 1\n",
      "1 2 1 2 1 2 1 2 1 2\n",
      "2 1 2 1 2 1 2 1 2 1\n",
      "7\n"
     ]
    }
   ],
   "source": [
    "\n",
    "\n",
    "# 14500 . 테트로미노\n",
    "\n",
    "N , M = map(int ,input().split())\n",
    "Arr = [list(map(int , input().split())) for _ in range(N)]\n",
    "\n",
    "# 테크노미로 배열\n",
    "\n",
    "# - 자 , 첫번쨰 인덱스는 회전 인덱스  두번쨰 인덱스는 블록위치 인덱스\n",
    "block_i_x = [ [0,0,0,0] , [0,1,2,3] ]\n",
    "block_i_y = [ [0,1,2,3] , [0,0,0,0] ]\n",
    "\n",
    "# 네모자\n",
    "block_o_x = [[0,1,1,0]]\n",
    "block_o_y = [[0,0,1,1]]\n",
    "\n",
    "# T자\n",
    "block_t_x = [ [0,0,0,1] , [0,1,2,1] , [0,0,0,-1] , [0,-1,-2,-1]]\n",
    "block_t_y = [ [0,1,2,1] , [0,0,0,-1] , [0,-1,-2,-1] , [0,0,0,1]]\n",
    "\n",
    "# S자\n",
    "block_s_x = [ [0,1,1,2] , [0,0,1,1] , [0,-1,-1,-2] , [0,0,-1,-1]]\n",
    "block_s_y = [ [0,0,1,1] , [0,-1,-1,-2] , [0,0,-1,-1] , [0,1,1,2]]\n",
    "\n",
    "# S자\n",
    "block_s_2_x = [ [0,1,1,2] , [0,0,1,1] , [0,-1,-1,-2] , [0,0,-1,-1]]\n",
    "block_s_2_y = [ [0,0,-1,-1] , [0,1,1,2] , [0,0,1,1] , [0,-1,-1,-2]]\n",
    "\n",
    "# L자\n",
    "block_l_x = [ [0,1,2,2] , [0,0,0,1] , [0,-1,-2,-2] , [0,0,0,-1]]\n",
    "block_l_y = [ [0,0,0,-1] , [0,1,2,2] , [0,0,0,1] , [0,-1,-2,-2]]\n",
    "\n",
    "# L자\n",
    "block_l_2_x = [ [0,1,2,2] , [0,0,0,1] , [0,-1,-2,-2] , [0,0,0,-1]]\n",
    "block_l_2_y = [ [0,0,0,1] , [0,-1,-2,-2] , [0,0,0,-1] , [0,1,2,2]]\n",
    "\n",
    "BLOCKS_x = [block_i_x , block_o_x , block_t_x , block_s_x , block_l_x , block_s_2_x , block_l_2_x]\n",
    "BLOCKS_y = [block_i_y , block_o_y , block_t_y , block_s_y , block_l_y, block_s_2_y , block_l_2_y]\n",
    "\n",
    "\n",
    "MAX = 0\n",
    "\n",
    "for x in range(N):\n",
    "    for y in range(M):\n",
    "        \n",
    "        for type in range(7):\n",
    "            for rot in range(len(BLOCKS_x[type])):\n",
    "                sum = 0\n",
    "                for pos in range(4):\n",
    "                    pos_x = x + BLOCKS_x[type][rot][pos]\n",
    "                    pos_y = y + BLOCKS_y[type][rot][pos]\n",
    "                    \n",
    "                    if pos_x < 0 or pos_x >= N  or \\\n",
    "                        pos_y < 0 or pos_y >= M:\n",
    "                        break\n",
    "                    sum = sum + Arr[pos_x][pos_y]\n",
    "                    \n",
    "                if sum > MAX:\n",
    "                    MAX = sum\n",
    "\n",
    "print(MAX)\n"
   ]
  },
  {
   "cell_type": "code",
   "execution_count": null,
   "metadata": {},
   "outputs": [],
   "source": [
    "\n",
    "# 14888 . 연산자 끼워넣기\n",
    "\n",
    "CASE = []\n",
    "\n",
    "N = int(input())\n",
    "Arr = list(map(int , input().split()))\n",
    "op_Arr = list(map(int , input().split()))\n",
    "\n",
    "\n",
    "def searchDFS(case , operations ):\n",
    "    \n",
    "    # 종료부분\n",
    "    if len(case) >= N-1:\n",
    "        CASE.append(case)\n",
    "        return\n",
    "    \n",
    "    # 탐색부분    \n",
    "    for i in range(4):\n",
    "        if operations[i] < op_Arr[i]:\n",
    "            next_operations = operations.copy()\n",
    "            next_operations[i] += 1\n",
    "            searchDFS(case + [i] , next_operations)\n",
    "\n",
    "            \n",
    "# 배열 계산\n",
    "def cal_Arr(Arr , operations):\n",
    "    \n",
    "    ans = Arr[0]\n",
    "    \n",
    "    for i in range(len(operations)):\n",
    "        ans = cal( ans , Arr[i+1] , operations[i])\n",
    "        \n",
    "    return ans\n",
    "\n",
    "def cal(x,y , op):\n",
    "    \n",
    "    if op == 0:\n",
    "        return x + y\n",
    "    elif op == 1:\n",
    "        return x - y\n",
    "    elif op == 2:\n",
    "        return x*y\n",
    "    elif op ==3:\n",
    "        return int(x/y)\n",
    "    \n",
    "MAX = -1000000000\n",
    "MIN = 1000000000\n",
    "\n",
    "# 메인단\n",
    "searchDFS([] ,[0,0,0,0])\n",
    "\n",
    "for case in CASE:\n",
    "    ans = cal_Arr(Arr , case)\n",
    "    \n",
    "    if ans > MAX:\n",
    "        MAX = ans\n",
    "    \n",
    "    if ans < MIN:\n",
    "        MIN = ans\n",
    "        \n",
    "print(MAX)\n",
    "print(MIN)\n",
    "    "
   ]
  },
  {
   "cell_type": "code",
   "execution_count": 13,
   "metadata": {},
   "outputs": [
    {
     "data": {
      "text/plain": [
       "50"
      ]
     },
     "execution_count": 13,
     "metadata": {},
     "output_type": "execute_result"
    }
   ],
   "source": [
    "# 배열 계산\n",
    "def cal_Arr(Arr , operations):\n",
    "    \n",
    "    ans = Arr[0]\n",
    "    \n",
    "    for i in range(len(operations)):\n",
    "        ans = cal( ans , Arr[i+1] , operations[i])\n",
    "        \n",
    "    return ans\n",
    "\n",
    "def cal(x,y , op):\n",
    "    \n",
    "    if op == 0:\n",
    "        return x + y\n",
    "    elif op == 1:\n",
    "        return x - y\n",
    "    elif op == 2:\n",
    "        return x*y\n",
    "    elif op ==3:\n",
    "        return int(x/y)\n",
    "    \n",
    "Arr = [1,2,3,4,5]\n",
    "\n",
    "operations = [0,0,0,2]\n",
    "\n",
    "cal_Arr(Arr,operations)\n",
    "                   \n",
    "                "
   ]
  },
  {
   "cell_type": "code",
   "execution_count": 2,
   "metadata": {},
   "outputs": [
    {
     "data": {
      "text/plain": [
       "[2, 2, 3]"
      ]
     },
     "execution_count": 2,
     "metadata": {},
     "output_type": "execute_result"
    }
   ],
   "source": [
    "a = [1,2,3]\n",
    "\n",
    "a[0] +=1\n",
    "a"
   ]
  },
  {
   "cell_type": "code",
   "execution_count": 1,
   "metadata": {},
   "outputs": [
    {
     "data": {
      "text/plain": [
       "4"
      ]
     },
     "execution_count": 1,
     "metadata": {},
     "output_type": "execute_result"
    }
   ],
   "source": [
    "a = 3\n",
    "\n",
    "a+=1\n",
    "\n",
    "a"
   ]
  },
  {
   "cell_type": "code",
   "execution_count": null,
   "metadata": {},
   "outputs": [],
   "source": []
  }
 ],
 "metadata": {
  "kernelspec": {
   "display_name": "Python 3",
   "language": "python",
   "name": "python3"
  },
  "language_info": {
   "codemirror_mode": {
    "name": "ipython",
    "version": 3
   },
   "file_extension": ".py",
   "mimetype": "text/x-python",
   "name": "python",
   "nbconvert_exporter": "python",
   "pygments_lexer": "ipython3",
   "version": "3.7.3"
  }
 },
 "nbformat": 4,
 "nbformat_minor": 2
}
