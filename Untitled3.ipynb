{
 "cells": [
  {
   "cell_type": "code",
   "execution_count": null,
   "metadata": {},
   "outputs": [],
   "source": [
    "\n",
    "## 파이썬의 데이터 갖고 놀기\n",
    "\n"
   ]
  },
  {
   "cell_type": "code",
   "execution_count": null,
   "metadata": {},
   "outputs": [],
   "source": [
    "\n",
    "# Index - vs - Value\n"
   ]
  },
  {
   "cell_type": "code",
   "execution_count": null,
   "metadata": {},
   "outputs": [],
   "source": [
    "\n",
    "# 리스트 내에서 최댓값/최솟값/탐색\n",
    "\n",
    "a = [1,100,3,100,4,8]\n",
    "\n",
    "# 인덱스 사용할경우 최대중복값의 경우 앞선 인덱스를 리턴함 , 중복값들에 대해 조심할 것\n",
    "print(\"a 의 최댓값 : {} ,  a 의 최댓값 인덱스 : {}\".format(max(a) , a.index(max(a)) ))\n",
    "print(\"a 의 최솟값 : {} ,  a 의 최솟값 인덱스 : {}\".format(min(a) , a.index(min(a)) ))\n",
    "\n"
   ]
  },
  {
   "cell_type": "code",
   "execution_count": null,
   "metadata": {},
   "outputs": [],
   "source": [
    "\n",
    "## 주료 사용하는 데이터 구조들\n",
    "\n",
    "#  1 . Map 의 형태로 표현되는 애들\n",
    "\n",
    "# (1). 유닛 정보들 표현 ( 예 : [ 이름 , x 좌표 , y 좌표 , 방향 정보] ) \n",
    "units = [ [\"b\" , 0,0,1] , [\"a\", 3,4,2] , [\"c\" , 2,2,3] , [\"c\" , 1,2,4] ]\n",
    "\n",
    "# (2). 정렬하기\n",
    "\n",
    "# 기본적으로 오름차순 ,  다중 정렬의 경우 우선순위가 높은 비교조건을 뒤에 놓을 것..!\n",
    "\n",
    "print(\"정렬 전 : \" , units)\n",
    "units = sorted(units, key=lambda x: x[1], reverse=False)\n",
    "print(\"1차 정렬 후 : \" , units)\n",
    "units = sorted(units, key=lambda x: x[0], reverse=False)\n",
    "print(\"2차 정렬 후 : \" , units)\n",
    "\n",
    "units = [ [\"b\" , 0,0,1] , [\"a\", 3,4,2] , [\"c\" , 2,2,3] , [\"c\" , 1,2,4] ]\n",
    "print(\"정렬 전 : \" , units)\n",
    "units = sorted(units, key=lambda x: x[0], reverse=False)\n",
    "print(\"1차 정렬 후 : \" , units)\n",
    "units = sorted(units, key=lambda x: x[1], reverse=False)\n",
    "print(\"2차 정렬 후 : \" , units)\n",
    "\n"
   ]
  },
  {
   "cell_type": "code",
   "execution_count": null,
   "metadata": {},
   "outputs": [],
   "source": [
    "\n",
    "\n",
    "\n",
    "\n",
    "\n",
    "\n",
    "\n",
    "\n",
    "\n",
    "\n",
    "\n",
    "# 움직일 수 있는지 체크 , 최단거리 리턴 , 이동 불가시 -1 리턴\n",
    "def check_move(sp , gp):\n",
    "    \n",
    "    pos = [sp[0] , sp[1]]\n",
    "    distance = 0\n",
    "    marking_Arr = [ 0 for _ in range(N*N)]\n",
    "    \n",
    "    marking_Arr[pos[0]*N + pos[1] ] = 1\n",
    "    que = [ [pos ,  marking_Arr , distance] ]\n",
    "    \n",
    "    time = 0\n",
    "    \n",
    "   # BFS\n",
    "    while(len(que) != 0 ):\n",
    "        time = time + 1\n",
    "        node = que.pop(0)\n",
    "        x = node[0][0]\n",
    "        y = node[0][1]\n",
    "        distance = node[2]\n",
    "        \n",
    "        if x == gp[0] and y == gp[1]:\n",
    "            print(\"BFS 시간 : \", time , distance)\n",
    "            return distance\n",
    "        else:\n",
    "            for i in range(4):\n",
    "                new_x = x + action_dx[i]\n",
    "                new_y = y + action_dy[i]\n",
    "                \n",
    "                # 공간을 넘어가는 경우\n",
    "                if new_x < 0 or new_x >= N or new_y < 0 or new_y >= N:\n",
    "                    continue         \n",
    "                # 이미 방문한 경우\n",
    "                if node[1][new_x*N + new_y] == 1:\n",
    "                    continue\n",
    "                # 물고기한테 가로막힌경우\n",
    "                if Arr[new_x][new_y] > shark[1]:\n",
    "                    continue\n",
    "                \n",
    "                # 큐에 추가\n",
    "                new_marking_Arr = node[1].copy()\n",
    "                new_marking_Arr[new_x*N + new_y] = 1\n",
    "                que.append([ [new_x , new_y] ,new_marking_Arr , distance + 1  ])\n",
    "    \n",
    "    print(\"탐색 실패 ,BFS 시간 : \", time  )\n",
    "    return -1\n",
    "\n",
    "\n",
    "\n",
    "action_dx = [0,0,1,-1]\n",
    "action_dy = [1,-1,0,0]\n",
    "\n",
    "check_move([0,0] , [2,2])\n"
   ]
  },
  {
   "cell_type": "code",
   "execution_count": null,
   "metadata": {},
   "outputs": [],
   "source": [
    "Arr = [[0, 0 , 0, 0 ,0] , [0,4,0 ,4 , 0] ,[0, 0, 0,0,0] ,\\\n",
    "      [0,0,0,0,0] , [0,0,0,0,0]]\n",
    "shark = [[0,0] , 1 , 1]\n",
    "N = 5\n",
    "\n",
    "check_move([0,0] , [4,4])"
   ]
  },
  {
   "cell_type": "code",
   "execution_count": null,
   "metadata": {},
   "outputs": [],
   "source": [
    "N = 20\n",
    "Arr = [[0 for _ in range(N)] for _ in range(N)]\n",
    "shark = [[0,0] , 1 , 1]\n",
    "\n",
    "\n",
    "check_move([0,0] , [N-1,N-1])"
   ]
  },
  {
   "cell_type": "code",
   "execution_count": 9,
   "metadata": {},
   "outputs": [
    {
     "name": "stdout",
     "output_type": "stream",
     "text": [
      "BFS 시간 :  7 6\n"
     ]
    },
    {
     "data": {
      "text/plain": [
       "6"
      ]
     },
     "execution_count": 9,
     "metadata": {},
     "output_type": "execute_result"
    }
   ],
   "source": [
    "\n",
    "# 움직일 수 있는지 체크 , 최단거리 리턴 , 이동 불가시 -1 리턴\n",
    "def check_move(sp , gp):\n",
    "    \n",
    "    pos = [sp[0] , sp[1]]\n",
    "    distance = 0\n",
    "    marking_Arr = [ 0 for _ in range(N*N)]\n",
    "    \n",
    "    marking_Arr[pos[0]*N + pos[1] ] = 1\n",
    "    \n",
    "    now_depth = 0\n",
    "    depth_que = [ [pos ,  marking_Arr , distance] ]\n",
    "    que = [ [pos ,  marking_Arr , distance] ]\n",
    "    min_distance = 1000\n",
    "    \n",
    "    time = 0\n",
    "    \n",
    "    while(len(que) != 0 ):\n",
    "        time = time + 1\n",
    "        node = que.pop(-1)\n",
    "        x = node[0][0]\n",
    "        y = node[0][1]\n",
    "        distance = node[2]\n",
    "        \n",
    "        if x == gp[0] and y == gp[1]:\n",
    "            print(\"BFS 시간 : \", time , distance)\n",
    "            return distance\n",
    "        else:\n",
    "            \n",
    "            prior_direction = [0,0,0,0]\n",
    "            \n",
    "            vector_x = gp[0] - x\n",
    "            vector_y = gp[1] - y\n",
    "            \n",
    "                \n",
    "            if abs(vector_x) > abs(vector_y):\n",
    "                \n",
    "                if vector_x >= 0:\n",
    "                    if vector_y >= 0:\n",
    "                        prior_direction = [0,2,3,1]\n",
    "                    else:\n",
    "                        prior_direction = [0,3,2,1]\n",
    "                else:\n",
    "                    if vector_y >= 0:\n",
    "                        prior_direction = [1,2,3,0]\n",
    "                    else:\n",
    "                        prior_direction = [1,3,2,0]\n",
    "            else:\n",
    "                if vector_y >= 0:\n",
    "                    if vector_x >= 0:\n",
    "                        prior_direction = [2,0,1,3]\n",
    "                    else:\n",
    "                        prior_direction = [2,1,0,3]\n",
    "                else:\n",
    "                    if vector_x >= 0:\n",
    "                        prior_direction = [3,0,1,2]\n",
    "                    else:\n",
    "                        prior_direction = [3,1,0,2]\n",
    "                    \n",
    "            \n",
    "            for i in prior_direction:\n",
    "                new_x = x + action_dx[i]\n",
    "                new_y = y + action_dy[i]\n",
    "                \n",
    "                \n",
    "                # 공간을 넘어가는 경우\n",
    "                if new_x < 0 or new_x >= N or new_y < 0 or new_y >= N:\n",
    "                    continue         \n",
    "                # 이미 방문한 경우\n",
    "                if node[1][new_x*N + new_y] == 1:\n",
    "                    continue\n",
    "                # 물고기한테 가로막힌경우\n",
    "                if Arr[new_x][new_y] > shark[1]:\n",
    "                    continue\n",
    "                \n",
    "                # 큐에 추가\n",
    "                new_marking_Arr = node[1].copy()\n",
    "                new_marking_Arr[new_x*N + new_y] = 1\n",
    "                que.append([ [new_x , new_y] ,new_marking_Arr , distance + 1  ])\n",
    "    \n",
    "    print(\"탐색 실패 ,BFS 시간 : \", time  )\n",
    "    return -1\n",
    "\n",
    "\n",
    "\n",
    "action_dx = [0,0,1,-1]\n",
    "action_dy = [1,-1,0,0]\n",
    "\n",
    "check_move([0,0] , [2,2])\n"
   ]
  },
  {
   "cell_type": "code",
   "execution_count": 10,
   "metadata": {},
   "outputs": [
    {
     "name": "stdout",
     "output_type": "stream",
     "text": [
      "BFS 시간 :  57 56\n"
     ]
    },
    {
     "data": {
      "text/plain": [
       "56"
      ]
     },
     "execution_count": 10,
     "metadata": {},
     "output_type": "execute_result"
    }
   ],
   "source": [
    "N = 8\n",
    "Arr = [[0 for _ in range(N)] for _ in range(N)]\n",
    "shark = [[0,0] , 1 , 1]\n",
    "\n",
    "\n",
    "check_move([0,0] , [N-1,N-1])"
   ]
  },
  {
   "cell_type": "code",
   "execution_count": null,
   "metadata": {},
   "outputs": [],
   "source": [
    "a = [1,1,1,1,1,1,100,1,1]\n",
    "\n",
    "i = -1\n",
    "\n",
    "while(i < len(a)):\n",
    "    i = i + 1\n",
    "    \n",
    "    if a[i] == 100:\n",
    "        print(\"바보\")\n",
    "        continue\n",
    "        \n",
    "    else:\n",
    "        print(i)\n",
    "        \n"
   ]
  },
  {
   "cell_type": "code",
   "execution_count": 6,
   "metadata": {},
   "outputs": [
    {
     "data": {
      "text/plain": [
       "5"
      ]
     },
     "execution_count": 6,
     "metadata": {},
     "output_type": "execute_result"
    }
   ],
   "source": [
    "a  = [ 1,2,3,4,5]\n",
    "\n",
    "a.pop(-1)"
   ]
  },
  {
   "cell_type": "code",
   "execution_count": null,
   "metadata": {},
   "outputs": [],
   "source": [
    "            if abs(vector_x) > abs(vector_y):\n",
    "                \n",
    "                if vector_x >= 0:\n",
    "                    if vector_y >= 0:\n",
    "                        prior_direction = [0,2,3,1]\n",
    "                    else:\n",
    "                        prior_direction = [0,3,2,1]\n",
    "                else:\n",
    "                    if vector_y >= 0:\n",
    "                        prior_direction = [1,2,3,0]\n",
    "                    else:\n",
    "                        prior_direction = [1,3,2,0]\n",
    "            else:\n",
    "                if vector_y >= 0:\n",
    "                    if vector_x >= 0:\n",
    "                        prior_direction = [2,0,1,3]\n",
    "                    else:\n",
    "                        prior_direction = [2,1,0,3]\n",
    "                else:\n",
    "                    if vector_x >= 0:\n",
    "                        prior_direction = [3,0,1,2]\n",
    "                    else:\n",
    "                        prior_direction = [3,1,0,2]\n",
    "                    "
   ]
  }
 ],
 "metadata": {
  "kernelspec": {
   "display_name": "Python 3",
   "language": "python",
   "name": "python3"
  }
 },
 "nbformat": 4,
 "nbformat_minor": 2
}
